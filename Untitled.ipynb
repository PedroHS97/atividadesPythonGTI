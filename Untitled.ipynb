{
 "cells": [
  {
   "cell_type": "code",
   "execution_count": 7,
   "id": "9abf162c-7d03-4cf1-a3e0-2bfc1a6b065f",
   "metadata": {},
   "outputs": [],
   "source": [
    "naturais = {0, 1, 2, 3, 4, 5}\n",
    "inteiros = {-3, -2, -1, 0, 1, 2, 3}\n",
    "racionais = {0.5, -2.3, 1.75}\n",
    "reais = {3.14, -1.414, 2.718}"
   ]
  },
  {
   "cell_type": "code",
   "execution_count": 8,
   "id": "d48af8b0-3191-4c01-a3eb-ab6d17a51a7b",
   "metadata": {},
   "outputs": [
    {
     "name": "stdout",
     "output_type": "stream",
     "text": [
      "Conjunto de números naturais: {0, 1, 2, 3, 4, 5}\n",
      "Conjunto de números inteiros: {0, 1, 2, 3, -1, -3, -2}\n",
      "Conjunto de números racionais: {0.5, 1.75, -2.3}\n",
      "Conjunto de números reais: {2.718, 3.14, -1.414}\n"
     ]
    }
   ],
   "source": [
    "print(\"Conjunto de números naturais:\", naturais)\n",
    "print(\"Conjunto de números inteiros:\", inteiros)\n",
    "print(\"Conjunto de números racionais:\", racionais)\n",
    "print(\"Conjunto de números reais:\", reais)"
   ]
  },
  {
   "cell_type": "code",
   "execution_count": 10,
   "id": "48b1a68c-a8d0-4866-803e-64fce902d1dc",
   "metadata": {},
   "outputs": [],
   "source": [
    "A = {1, 2, 3, 4, 5}\n",
    "B = {3, 4, 5, 6, 7}\n",
    "c = A | B\n",
    "#uniao = A.union(B)"
   ]
  },
  {
   "cell_type": "code",
   "execution_count": 11,
   "id": "4a5c1327-ab18-4a56-bd64-4328013674c6",
   "metadata": {},
   "outputs": [
    {
     "name": "stdout",
     "output_type": "stream",
     "text": [
      "União: {1, 2, 3, 4, 5, 6, 7}\n",
      "Interseção: {3, 4, 5}\n",
      "Diferenca A - B: {1, 2}\n"
     ]
    }
   ],
   "source": [
    "print(\"União:\", A | B) # A U B\n",
    "print(\"Interseção:\", A & B) # A n B\n",
    "print (\"Diferenca A - B:\", A - B) # Elementos em A, mas não em B"
   ]
  },
  {
   "cell_type": "code",
   "execution_count": 14,
   "id": "04b7ca06-6463-4a27-9c53-4659a6035cd5",
   "metadata": {},
   "outputs": [
    {
     "name": "stdout",
     "output_type": "stream",
     "text": [
      "Conjunto atualizado: {1, 2, 3, 4, 5, 6, 7, 8, 9}\n",
      "Tamanho do conjunto: 9\n"
     ]
    }
   ],
   "source": [
    "numeros = {1, 2, 3, 4, 5}\n",
    "\n",
    "numeros.add(6) # Adiciona um elemento\n",
    "# Remove um elemento existente\n",
    "numeros.update([7, 8, 9]) # Adiciona múltiplos elementos\n",
    "print(\"Conjunto atualizado:\", numeros)\n",
    "print(\"Tamanho do conjunto:\", len(numeros))\n",
    "\n",
    "numeros. remove(2)"
   ]
  },
  {
   "cell_type": "code",
   "execution_count": 17,
   "id": "3dd68a42-2182-4c78-8f73-7562e0da4fbf",
   "metadata": {},
   "outputs": [
    {
     "name": "stdout",
     "output_type": "stream",
     "text": [
      "Idades únicas e válidas: {35, 40, 18, 22, 25, 28, 29, 30}\n",
      "Idade mínima: 18\n",
      "Idade máxima: 40\n",
      "Média de idade: 28.38\n"
     ]
    }
   ],
   "source": [
    "idades = [25, 30, 22, 22, 28, 35, 40, 30, -5, 120, 25, 18, 29]\n",
    "\n",
    "# Remover valores inválidos (idades negativas ou irreais)\n",
    "idades_validas = {i for i in idades if 0 <= i <= 100}\n",
    "\n",
    "# Estatísticas básicas\n",
    "idade_min = min(idades_validas)\n",
    "idade_max = max(idades_validas)\n",
    "media_idades = sum(idades_validas) / len(idades_validas)\n",
    "\n",
    "print(\"Idades únicas e válidas:\", idades_validas)\n",
    "print (\"Idade mínima:\", idade_min)\n",
    "print(\"Idade máxima:\", idade_max)\n",
    "print (\"Média de idade:\", round(media_idades, 2) )"
   ]
  },
  {
   "cell_type": "code",
   "execution_count": null,
   "id": "20b5e523-84d4-4a21-be59-59050fe5b883",
   "metadata": {},
   "outputs": [],
   "source": []
  }
 ],
 "metadata": {
  "kernelspec": {
   "display_name": "Python 3 (ipykernel)",
   "language": "python",
   "name": "python3"
  },
  "language_info": {
   "codemirror_mode": {
    "name": "ipython",
    "version": 3
   },
   "file_extension": ".py",
   "mimetype": "text/x-python",
   "name": "python",
   "nbconvert_exporter": "python",
   "pygments_lexer": "ipython3",
   "version": "3.13.2"
  }
 },
 "nbformat": 4,
 "nbformat_minor": 5
}
