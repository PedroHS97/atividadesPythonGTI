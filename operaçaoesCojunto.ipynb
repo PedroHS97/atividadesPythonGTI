{
 "cells": [
  {
   "cell_type": "markdown",
   "metadata": {},
   "source": [
    "###RESPOSTA ATIVIDADE 1"
   ]
  },
  {
   "cell_type": "code",
   "execution_count": 6,
   "metadata": {},
   "outputs": [
    {
     "name": "stdout",
     "output_type": "stream",
     "text": [
      "A U B = {0, 1, 2, 3, 4, 5}\n",
      "A - B =  {0, 2, 5}\n",
      "B - A =  {1, 3, 6, -2}\n"
     ]
    },
    {
     "data": {
      "text/plain": [
       "{4}"
      ]
     },
     "execution_count": 6,
     "metadata": {},
     "output_type": "execute_result"
    }
   ],
   "source": [
    "#Dados A = {0, 1, 2, 3} e B = {2, 3, 4, 5}, determine A ∪ B.\n",
    "A = {0, 1, 2, 3}\n",
    "B = {2, 3, 4, 5}\n",
    "c = A|B # A U B\n",
    "print(\"A U B =\", c)\n",
    "\n",
    "#Dados A = {- 1, 0, 2, 4, 5} e B = {- 2, - 1, 1, 3, 4, 6}, determine A - B e B - A.\n",
    "A = {- 1, 0, 2, 4, 5}\n",
    "B = {- 2, - 1, 1, 3, 4, 6}\n",
    "C = A - B # menos B\n",
    "D = B - A # menos A\n",
    "print(\"A - B = \", C)\n",
    "print(\"B - A = \", D)\n",
    "\n",
    "#c) Considere os conjuntos 𝐴 = {0,1,2,3,4,5,6},𝐵 = {1,2},𝐶 = {2,3,4} 𝑒 𝐷 = {4,5}, determine\n",
    "#(𝐴 − 𝐵) ∩ (𝐶 ∩ 𝐷).\n",
    "𝐴 = {0,1,2,3,4,5,6}\n",
    "𝐵 = {1,2}\n",
    "𝐶 = {2,3,4}\n",
    "𝐷 = {4,5}\n",
    "\n",
    "E = A - B\n",
    "F = C & D\n",
    "G = E & F\n",
    "G"
   ]
  },
  {
   "cell_type": "markdown",
   "metadata": {},
   "source": [
    "###RESPOSTA ATIVIDADE 2"
   ]
  },
  {
   "cell_type": "code",
   "execution_count": 7,
   "metadata": {},
   "outputs": [
    {
     "name": "stdout",
     "output_type": "stream",
     "text": [
      "B U A = C E F\n"
     ]
    }
   ],
   "source": [
    "if B | A == C:\n",
    "    print(\"B U A = C e V\")\n",
    "else:\n",
    "    print(\"B U A = C E F\")  "
   ]
  },
  {
   "cell_type": "code",
   "execution_count": 9,
   "metadata": {},
   "outputs": [
    {
     "name": "stdout",
     "output_type": "stream",
     "text": [
      "A ∩ B = {0, 1, 2} é F\n"
     ]
    }
   ],
   "source": [
    "# b)𝐴∩𝐵={0,1,2} -> A & B == {0,1,2}\n",
    "\n",
    "if A & B == {0, 1, 2}:\n",
    "    print(\"A ∩ B = {0, 1, 2} é V\")\n",
    "else:\n",
    "    print(\"A ∩ B = {0, 1, 2} é F\")"
   ]
  },
  {
   "cell_type": "markdown",
   "metadata": {},
   "source": [
    "Resposta da questão 3\n",
    "\n",
    "Se 𝐴∪𝐵 = {0, 1, 2, 3, 4, 5, 6}, 𝐴∩𝐵 = {2, 4} e 𝐴–𝐵 = {1, 5, 6}, então podemos dizer que o conjunto B é igual a"
   ]
  },
  {
   "cell_type": "code",
   "execution_count": 11,
   "metadata": {},
   "outputs": [
    {
     "name": "stdout",
     "output_type": "stream",
     "text": [
      "A =  {1, 2, 4, 5, 6} \n",
      "\n",
      "B =  {0, 2, 3, 4} \n",
      "\n"
     ]
    }
   ],
   "source": [
    "# Código para resolver: Se A | B = {0, 1, 2, 3, 4, 5, 6}, A & B = {2, 4} e A - B = {1, 5, 6} então B é?\n",
    "\n",
    "AuniB = {0, 1, 2, 3, 4, 5, 6}\n",
    "AinterB = {2, 4}\n",
    "AmenosB = {1, 5, 6}\n",
    "\n",
    "A = AinterB | AmenosB\n",
    "print(\"A = \",A ,\"\\n\")\n",
    "B = (AuniB - A) | AinterB\n",
    "print(\"B = \", B, \"\\n\")"
   ]
  },
  {
   "cell_type": "code",
   "execution_count": null,
   "metadata": {},
   "outputs": [],
   "source": []
  }
 ],
 "metadata": {
  "kernelspec": {
   "display_name": "Python 3",
   "language": "python",
   "name": "python3"
  },
  "language_info": {
   "codemirror_mode": {
    "name": "ipython",
    "version": 3
   },
   "file_extension": ".py",
   "mimetype": "text/x-python",
   "name": "python",
   "nbconvert_exporter": "python",
   "pygments_lexer": "ipython3",
   "version": "3.13.2"
  }
 },
 "nbformat": 4,
 "nbformat_minor": 2
}
