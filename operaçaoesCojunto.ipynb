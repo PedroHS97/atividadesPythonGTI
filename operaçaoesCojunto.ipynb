{
 "cells": [
  {
   "cell_type": "markdown",
   "metadata": {},
   "source": [
    "###RESPOSTA ATIVIDADE 1"
   ]
  },
  {
   "cell_type": "code",
   "execution_count": null,
   "metadata": {},
   "outputs": [
    {
     "name": "stdout",
     "output_type": "stream",
     "text": [
      "A U B = {0, 1, 2, 3, 4, 5}\n",
      "A - B =  {0, 2, 5}\n",
      "B - A =  {1, 3, 6, -2}\n"
     ]
    },
    {
     "data": {
      "text/plain": [
       "{4}"
      ]
     },
     "execution_count": 2,
     "metadata": {},
     "output_type": "execute_result"
    }
   ],
   "source": [
    "# A) Dados A = {0, 1, 2, 3} e B = {2, 3, 4, 5}, determine A ∪ B.\n",
    "A = {0, 1, 2, 3}\n",
    "B = {2, 3, 4, 5}\n",
    "c = A|B # A U B\n",
    "print(\"A U B =\", c)\n",
    "\n",
    "# B) Dados A = {- 1, 0, 2, 4, 5} e B = {- 2, - 1, 1, 3, 4, 6}, determine A - B e B - A.\n",
    "A = {- 1, 0, 2, 4, 5}\n",
    "B = {- 2, - 1, 1, 3, 4, 6}\n",
    "C = A - B # menos B\n",
    "D = B - A # menos A\n",
    "print(\"A - B = \", C)\n",
    "print(\"B - A = \", D)\n",
    "\n",
    "#c) Considere os conjuntos 𝐴 = {0,1,2,3,4,5,6},𝐵 = {1,2},𝐶 = {2,3,4} 𝑒 𝐷 = {4,5}, determine\n",
    "#(𝐴 − 𝐵) ∩ (𝐶 ∩ 𝐷).\n",
    "𝐴 = {0,1,2,3,4,5,6}\n",
    "𝐵 = {1,2}\n",
    "𝐶 = {2,3,4}\n",
    "𝐷 = {4,5}\n",
    "\n",
    "E = A - B\n",
    "F = C & D\n",
    "G = E & F\n",
    "G"
   ]
  },
  {
   "cell_type": "code",
   "execution_count": 3,
   "metadata": {},
   "outputs": [
    {
     "name": "stdout",
     "output_type": "stream",
     "text": [
      "A - B: {0, -1}\n",
      "C - B: {0}\n",
      "(A - B) ∩ (C - B): {0}\n"
     ]
    }
   ],
   "source": [
    "#d) Dados os conjuntos A = {0, -1, 1}, B = {1, 3, 4} e C = {0, 1}, determine (A − B) ∩ (C − B).\n",
    "\n",
    "A = {0, -1, 1}\n",
    "B = {1, 3, 4}\n",
    "C = {0, 1}\n",
    "\n",
    "A_minus_B = A - B\n",
    "C_minus_B = C - B\n",
    "\n",
    "result = A_minus_B & C_minus_B\n",
    "print(\"A - B:\", A_minus_B)\n",
    "print(\"C - B:\", C_minus_B)\n",
    "print(\"(A - B) ∩ (C - B):\", result)\n",
    "\n"
   ]
  },
  {
   "cell_type": "code",
   "execution_count": 4,
   "metadata": {},
   "outputs": [
    {
     "name": "stdout",
     "output_type": "stream",
     "text": [
      "A ∪ B: {0, 1, 2, -2, -1}\n",
      "B ∪ C: {0, 1, 2, 3, 4, 5, -2}\n",
      "(A ∪ B) ∩ (B ∪ C): {0, 1, 2, -2}\n"
     ]
    }
   ],
   "source": [
    "#e) Dados os conjuntos A = {- 1, 0, 1}, B = {-2, 0, 1, 2} e C = {1, 2, 3, 4, 5}, determine o conjunto\n",
    "#E = (A ∪ B) ∩ (B ∪ C).\n",
    "\n",
    "A = {-1, 0, 1}\n",
    "B = {-2, 0, 1, 2}\n",
    "C = {1, 2, 3, 4, 5}\n",
    "\n",
    "A_union_B = A | B\n",
    "B_union_C = B | C\n",
    "\n",
    "E = A_union_B & B_union_C\n",
    "\n",
    "print(\"A ∪ B:\", A_union_B)\n",
    "print(\"B ∪ C:\", B_union_C)\n",
    "print(\"(A ∪ B) ∩ (B ∪ C):\", E)\n"
   ]
  },
  {
   "cell_type": "code",
   "execution_count": 5,
   "metadata": {},
   "outputs": [
    {
     "name": "stdout",
     "output_type": "stream",
     "text": [
      "A ∩ B: {0, 2}\n",
      "C - (A ∩ B): {1, 3, 4, 5}\n"
     ]
    }
   ],
   "source": [
    "#f) Dados os conjuntos A = {- 2, - 1, 0, 1, 2}, B = {0, 2, 4, 6} e C = {0, 1, 2, 3, 4, 5}, determine o conjunto\n",
    "#C − (A ∩ B).\n",
    "\n",
    "A = {-2, -1, 0, 1, 2}\n",
    "B = {0, 2, 4, 6}\n",
    "C = {0, 1, 2, 3, 4, 5}\n",
    "\n",
    "A_inter_B = A & B\n",
    "\n",
    "result = C - A_inter_B\n",
    "\n",
    "print(\"A ∩ B:\", A_inter_B)\n",
    "print(\"C - (A ∩ B):\", result)\n"
   ]
  },
  {
   "cell_type": "code",
   "execution_count": 6,
   "metadata": {},
   "outputs": [
    {
     "name": "stdout",
     "output_type": "stream",
     "text": [
      "(A ∪ B) ∩ C: {1, 2, 3, 4}\n",
      "(A ∩ B) ∪ C: {0, 1, 2, 3, 4}\n",
      "Resultado final: set()\n"
     ]
    }
   ],
   "source": [
    "#g) Dados os conjuntos A = {1, 2, 3}, B = {2, 3, 4, 5} e C = {0, 1, 2, 3, 4}, determine o conjunto:\n",
    "#[(A ∪ B) ∩ C] − [(A ∩ B) ∪ C] .\n",
    "\n",
    "A = {1, 2, 3}\n",
    "B = {2, 3, 4, 5}\n",
    "C = {0, 1, 2, 3, 4}\n",
    "\n",
    "A_union_B = A | B  # A ∪ B\n",
    "A_inter_B = A & B  # A ∩ B\n",
    "\n",
    "parte1 = (A_union_B & C)  # (A ∪ B) ∩ C\n",
    "parte2 = (A_inter_B | C)  # (A ∩ B) ∪ C\n",
    "resultado = parte1 - parte2  # [(A ∪ B) ∩ C] - [(A ∩ B) ∪ C]\n",
    "\n",
    "print(\"(A ∪ B) ∩ C:\", parte1)\n",
    "print(\"(A ∩ B) ∪ C:\", parte2)\n",
    "print(\"Resultado final:\", resultado)\n"
   ]
  },
  {
   "cell_type": "code",
   "execution_count": 7,
   "metadata": {},
   "outputs": [
    {
     "name": "stdout",
     "output_type": "stream",
     "text": [
      "(A ∩ B): {2, 3}\n",
      "(A ∪ B): {1, 2, 3, 4}\n",
      "X: {5}\n"
     ]
    }
   ],
   "source": [
    "#h) Se os conjuntos A = {1, 2, 3}, B = {2, 3, 4} e C = {4, 5}, determine o conjunto X tal que X = (A ∩ B) ∪\n",
    "#C − (A ∪ B).\n",
    "\n",
    "A = {1, 2, 3}\n",
    "B = {2, 3, 4}\n",
    "C = {4, 5}\n",
    "\n",
    "A_inter_B = A & B  # A ∩ B\n",
    "A_union_B = A | B  # A ∪ B\n",
    "\n",
    "X = (A_inter_B | C) - A_union_B  # (A ∩ B) ∪ C - (A ∪ B)\n",
    "\n",
    "print(\"(A ∩ B):\", A_inter_B)\n",
    "print(\"(A ∪ B):\", A_union_B)\n",
    "print(\"X:\", X)\n"
   ]
  },
  {
   "cell_type": "code",
   "execution_count": null,
   "metadata": {},
   "outputs": [
    {
     "name": "stdout",
     "output_type": "stream",
     "text": [
      "M: {1, 2, 3, 4, 5}\n",
      "M ∪ N: {1, 2, 3, 4, 5}\n",
      "M ∩ N: {1, 2, 3}\n",
      "N: {1, 2, 3}\n"
     ]
    }
   ],
   "source": [
    "#i) Se M = {1, 2, 3, 4, 5} e N são conjuntos, tais que M ∪ N = {1, 2, 3, 4, 5} e M ∩ N = {1, 2, 3}, determine o\n",
    "#conjunto N.\n",
    "\n",
    "\n",
    "M = {1, 2, 3, 4, 5}\n",
    "M_union_N = {1, 2, 3, 4, 5} \n",
    "M_inter_N = {1, 2, 3}  \n",
    "\n",
    "N = M_inter_N | (M_union_N - M)\n",
    "\n",
    "print(\"M:\", M)\n",
    "print(\"M ∪ N:\", M_union_N)\n",
    "print(\"M ∩ N:\", M_inter_N)\n",
    "print(\"N:\", N)\n"
   ]
  },
  {
   "cell_type": "code",
   "execution_count": 12,
   "metadata": {},
   "outputs": [
    {
     "name": "stdout",
     "output_type": "stream",
     "text": [
      "A - B: {'a', 'f', 'c', 'e'}\n",
      "B - C: {'g', 'h', 'd', 'b', 'i'}\n",
      "(A - B) ∩ (B - C): set()\n"
     ]
    }
   ],
   "source": [
    "#j) Dados os conjuntos A = {a, b, c, d, e, f, g}, B = {b, d, g, h, i} e C = {e, f, m, n}, determine o conjunto (A −\n",
    "#B) ∩ (B − C).\n",
    "\n",
    "\n",
    "A = {'a', 'b', 'c', 'd', 'e', 'f', 'g'}\n",
    "B = {'b', 'd', 'g', 'h', 'i'}\n",
    "C = {'e', 'f', 'm', 'n'}\n",
    "\n",
    "A_minus_B = A - B\n",
    "B_minus_C = B - C\n",
    "\n",
    "resultado = A_minus_B & B_minus_C\n",
    "\n",
    "print(\"A - B:\", A_minus_B)\n",
    "print(\"B - C:\", B_minus_C)\n",
    "print(\"(A - B) ∩ (B - C):\", resultado)\n"
   ]
  },
  {
   "cell_type": "markdown",
   "metadata": {},
   "source": [
    "###RESPOSTA ATIVIDADE 2"
   ]
  },
  {
   "cell_type": "code",
   "execution_count": 7,
   "metadata": {},
   "outputs": [
    {
     "name": "stdout",
     "output_type": "stream",
     "text": [
      "B U A = C E F\n"
     ]
    }
   ],
   "source": [
    "if B | A == C:\n",
    "    print(\"B U A = C e V\")\n",
    "else:\n",
    "    print(\"B U A = C E F\")  "
   ]
  },
  {
   "cell_type": "code",
   "execution_count": 9,
   "metadata": {},
   "outputs": [
    {
     "name": "stdout",
     "output_type": "stream",
     "text": [
      "A ∩ B = {0, 1, 2} é F\n"
     ]
    }
   ],
   "source": [
    "# b)𝐴∩𝐵={0,1,2} -> A & B == {0,1,2}\n",
    "\n",
    "if A & B == {0, 1, 2}:\n",
    "    print(\"A ∩ B = {0, 1, 2} é V\")\n",
    "else:\n",
    "    print(\"A ∩ B = {0, 1, 2} é F\")"
   ]
  },
  {
   "cell_type": "code",
   "execution_count": 13,
   "metadata": {},
   "outputs": [
    {
     "name": "stdout",
     "output_type": "stream",
     "text": [
      "A ∪ C: {'f', 'g', 'c', 'm', 'a', 'd', 'b', 'e', 'n'}\n",
      "C: {'e', 'f', 'm', 'n'}\n",
      "A ∪ C = C? False\n"
     ]
    }
   ],
   "source": [
    "#d) A∪C=C\n",
    "\n",
    "A = {'a', 'b', 'c', 'd', 'e', 'f', 'g'}\n",
    "C = {'e', 'f', 'm', 'n'}\n",
    "\n",
    "A_union_C = A | C\n",
    "resultado = A_union_C == C\n",
    "\n",
    "print(\"A ∪ C:\", A_union_C)\n",
    "print(\"C:\", C)\n",
    "print(\"A ∪ C = C?\", resultado)\n"
   ]
  },
  {
   "cell_type": "code",
   "execution_count": 14,
   "metadata": {},
   "outputs": [
    {
     "name": "stdout",
     "output_type": "stream",
     "text": [
      "A interseção B ∩ C NÃO é igual a {-1, 0, 1, 2}.\n"
     ]
    }
   ],
   "source": [
    "#e) B∩C= −1,0,1,2\n",
    "\n",
    "B = {1, 2, 3, 4, 5}\n",
    "C = {-1, 0, 1, 2}\n",
    "\n",
    "B_inter_C = B & C\n",
    "\n",
    "if B_inter_C == {-1, 0, 1, 2}:\n",
    "    print(\"A interseção B ∩ C é igual a {-1, 0, 1, 2}.\")\n",
    "else:\n",
    "    print(\"A interseção B ∩ C NÃO é igual a {-1, 0, 1, 2}.\")"
   ]
  },
  {
   "cell_type": "code",
   "execution_count": 16,
   "metadata": {},
   "outputs": [
    {
     "name": "stdout",
     "output_type": "stream",
     "text": [
      "A interseção A ∩ B ∩ C é igual a {0, 1, 2}.\n"
     ]
    }
   ],
   "source": [
    "#f) A∩B∩C={0,1,2}\n",
    "\n",
    "A = {0, 1, 2, 3, 4}\n",
    "B = {0, 1, 2, 5, 6}\n",
    "C = {0, 1, 2, 7, 8}\n",
    "\n",
    "A_inter_B_inter_C = A & B & C\n",
    "\n",
    "if A_inter_B_inter_C == {0, 1, 2}:\n",
    "    print(\"A interseção A ∩ B ∩ C é igual a {0, 1, 2}.\")\n",
    "else:\n",
    "    print(\"A interseção A ∩ B ∩ C NÃO é igual a {0, 1, 2}.\")"
   ]
  },
  {
   "cell_type": "code",
   "execution_count": 17,
   "metadata": {},
   "outputs": [
    {
     "name": "stdout",
     "output_type": "stream",
     "text": [
      "A ∪ B - C NÃO é igual ao conjunto vazio {}.\n"
     ]
    }
   ],
   "source": [
    "#g) A∪B −C= { }\n",
    "\n",
    "A = {0, 1, 2, 3, 4}\n",
    "B = {2, 3, 4, 5}\n",
    "C = {1, 4, 6}\n",
    "\n",
    "A_union_B_minus_C = (A | B) - C\n",
    "\n",
    "if A_union_B_minus_C == set():\n",
    "    print(\"A ∪ B - C é igual ao conjunto vazio {}.\")\n",
    "else:\n",
    "    print(\"A ∪ B - C NÃO é igual ao conjunto vazio {}.\")"
   ]
  },
  {
   "cell_type": "code",
   "execution_count": 18,
   "metadata": {},
   "outputs": [
    {
     "name": "stdout",
     "output_type": "stream",
     "text": [
      "A - C NÃO é igual ao conjunto vazio {}.\n"
     ]
    }
   ],
   "source": [
    "#h) A−C=∅\n",
    "\n",
    "A = {0, 1, 2, 3, 4}\n",
    "C = {1, 4, 5}\n",
    "\n",
    "A_minus_C = A - C\n",
    "\n",
    "if A_minus_C == set():\n",
    "    print(\"A - C é igual ao conjunto vazio {}.\")\n",
    "else:\n",
    "    print(\"A - C NÃO é igual ao conjunto vazio {}.\")"
   ]
  },
  {
   "cell_type": "code",
   "execution_count": 19,
   "metadata": {},
   "outputs": [
    {
     "name": "stdout",
     "output_type": "stream",
     "text": [
      "B - C ∪ C - A NÃO é igual a {-2, -1, 4, 5}.\n"
     ]
    }
   ],
   "source": [
    "#i) B−C ∪ C−A ={−2,−1,4,5}\n",
    "\n",
    "B = {-2, -1, 0, 4, 5}\n",
    "C = {0, 1, 2, 4, 5}\n",
    "A = {1, 2, 3}\n",
    "\n",
    "B_minus_C = B - C\n",
    "C_minus_A = C - A\n",
    "\n",
    "resultado = B_minus_C | C_minus_A\n",
    "\n",
    "if resultado == {-2, -1, 4, 5}:\n",
    "    print(\"B - C ∪ C - A é igual a {-2, -1, 4, 5}.\")\n",
    "else:\n",
    "    print(\"B - C ∪ C - A NÃO é igual a {-2, -1, 4, 5}.\")"
   ]
  },
  {
   "cell_type": "code",
   "execution_count": 20,
   "metadata": {},
   "outputs": [
    {
     "name": "stdout",
     "output_type": "stream",
     "text": [
      "A ∩ C - B NÃO é igual a {3}.\n"
     ]
    }
   ],
   "source": [
    "#j) A∩ C−B = {3}\n",
    "\n",
    "A = {1, 2, 3, 4, 5}\n",
    "B = {2, 3, 4}\n",
    "C = {3, 4, 5, 6}\n",
    "\n",
    "A_inter_C_minus_B = (A & C) - B\n",
    "\n",
    "if A_inter_C_minus_B == {3}:\n",
    "    print(\"A ∩ C - B é igual a {3}.\")\n",
    "else:\n",
    "    print(\"A ∩ C - B NÃO é igual a {3}.\")"
   ]
  },
  {
   "cell_type": "markdown",
   "metadata": {},
   "source": [
    "###Resposta da questão 3"
   ]
  },
  {
   "cell_type": "markdown",
   "metadata": {},
   "source": [
    "Se 𝐴∪𝐵 = {0, 1, 2, 3, 4, 5, 6}, 𝐴∩𝐵 = {2, 4} e 𝐴–𝐵 = {1, 5, 6}, então podemos dizer que o conjunto B é igual a"
   ]
  },
  {
   "cell_type": "code",
   "execution_count": 11,
   "metadata": {},
   "outputs": [
    {
     "name": "stdout",
     "output_type": "stream",
     "text": [
      "A =  {1, 2, 4, 5, 6} \n",
      "\n",
      "B =  {0, 2, 3, 4} \n",
      "\n"
     ]
    }
   ],
   "source": [
    "# Código para resolver: Se A | B = {0, 1, 2, 3, 4, 5, 6}, A & B = {2, 4} e A - B = {1, 5, 6} então B é?\n",
    "\n",
    "AuniB = {0, 1, 2, 3, 4, 5, 6}\n",
    "AinterB = {2, 4}\n",
    "AmenosB = {1, 5, 6}\n",
    "\n",
    "A = AinterB | AmenosB\n",
    "print(\"A = \",A ,\"\\n\")\n",
    "B = (AuniB - A) | AinterB\n",
    "print(\"B = \", B, \"\\n\")"
   ]
  },
  {
   "cell_type": "code",
   "execution_count": null,
   "metadata": {},
   "outputs": [],
   "source": []
  }
 ],
 "metadata": {
  "kernelspec": {
   "display_name": "Python 3",
   "language": "python",
   "name": "python3"
  },
  "language_info": {
   "codemirror_mode": {
    "name": "ipython",
    "version": 3
   },
   "file_extension": ".py",
   "mimetype": "text/x-python",
   "name": "python",
   "nbconvert_exporter": "python",
   "pygments_lexer": "ipython3",
   "version": "3.13.2"
  }
 },
 "nbformat": 4,
 "nbformat_minor": 2
}
