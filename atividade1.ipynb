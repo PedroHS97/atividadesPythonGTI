{
 "cells": [
  {
   "cell_type": "code",
   "execution_count": 1,
   "id": "772420f2-50da-4c45-9bef-6e558e3485e8",
   "metadata": {},
   "outputs": [
    {
     "name": "stdout",
     "output_type": "stream",
     "text": [
      "<class 'int'>\n"
     ]
    }
   ],
   "source": [
    "print(type(10))"
   ]
  },
  {
   "cell_type": "code",
   "execution_count": 2,
   "id": "a1fefc4f-2f3f-42a7-8fb3-c03c2b20d18e",
   "metadata": {},
   "outputs": [
    {
     "name": "stdout",
     "output_type": "stream",
     "text": [
      "<class 'float'>\n"
     ]
    }
   ],
   "source": [
    "print(type(3.14))"
   ]
  },
  {
   "cell_type": "code",
   "execution_count": 3,
   "id": "b742e610-c05e-46f4-bd5e-2331dc49295b",
   "metadata": {},
   "outputs": [
    {
     "name": "stdout",
     "output_type": "stream",
     "text": [
      "<class 'bool'>\n"
     ]
    }
   ],
   "source": [
    "print(type(True))"
   ]
  },
  {
   "cell_type": "code",
   "execution_count": 4,
   "id": "114b48f7-7f33-4b78-84d6-b08827b3f5d2",
   "metadata": {
    "scrolled": true
   },
   "outputs": [
    {
     "name": "stdout",
     "output_type": "stream",
     "text": [
      "<class 'str'>\n"
     ]
    }
   ],
   "source": [
    "print(type(\"python\"))"
   ]
  },
  {
   "cell_type": "code",
   "execution_count": 5,
   "id": "30b6f92a-7a2e-4f5c-97e8-307bea87d14f",
   "metadata": {},
   "outputs": [
    {
     "name": "stdin",
     "output_type": "stream",
     "text": [
      "Digite seu nome:  pedro henrique \n"
     ]
    },
    {
     "data": {
      "text/plain": [
       "'pedro henrique '"
      ]
     },
     "execution_count": 5,
     "metadata": {},
     "output_type": "execute_result"
    }
   ],
   "source": [
    "name = input(\"Digite seu nome: \")\n",
    "name"
   ]
  },
  {
   "cell_type": "code",
   "execution_count": 6,
   "id": "535ce256-87ea-497b-9b47-51d6de63f8be",
   "metadata": {},
   "outputs": [
    {
     "name": "stdin",
     "output_type": "stream",
     "text": [
      "digite sua idade 27 \n"
     ]
    }
   ],
   "source": [
    "idade = input(\"digite sua idade\")"
   ]
  },
  {
   "cell_type": "code",
   "execution_count": 7,
   "id": "1fe712cc-b772-40da-9531-562ee676bd39",
   "metadata": {},
   "outputs": [
    {
     "name": "stdin",
     "output_type": "stream",
     "text": [
      "qual numero voce quer 37\n",
      "mais um  95\n"
     ]
    },
    {
     "name": "stdout",
     "output_type": "stream",
     "text": [
      "soma: 132.0\n",
      "subtraçao -58.0\n",
      "multiplicaçao 3515.0\n",
      "divisao 0.3894736842105263\n"
     ]
    }
   ],
   "source": [
    "num1 = float(input(\"qual numero voce quer\"))\n",
    "num2 = float(input(\"mais um \"))\n",
    "soma = num1 + num2\n",
    "subtracao = num1 - num2\n",
    "multiplicacao = num1 * num2\n",
    "divisao = num1 / num2\n",
    "\n",
    "print(\"soma:\",soma)\n",
    "print(\"subtraçao\",subtracao)\n",
    "print(\"multiplicaçao\",multiplicacao)\n",
    "print(\"divisao\",divisao)"
   ]
  },
  {
   "cell_type": "code",
   "execution_count": 16,
   "id": "2fc0b393-cf8c-46b4-84bc-a7425fc71fa7",
   "metadata": {
    "scrolled": true
   },
   "outputs": [
    {
     "name": "stdin",
     "output_type": "stream",
     "text": [
      "digite o primeiro numero: 97\n",
      "digite o segundo numer: 42\n"
     ]
    },
    {
     "name": "stdout",
     "output_type": "stream",
     "text": [
      "escolha a operaçao +,-,*,\n"
     ]
    },
    {
     "name": "stdin",
     "output_type": "stream",
     "text": [
      "digite a operaçao desejada: +\n"
     ]
    },
    {
     "name": "stdout",
     "output_type": "stream",
     "text": [
      "resultado: 139.0\n"
     ]
    }
   ],
   "source": [
    "num1 = float(input(\"digite o primeiro numero:\"))\n",
    "num2 = float(input(\"digite o segundo numer:\"))\n",
    "\n",
    "print(\"escolha a operaçao +,-,*,\")\n",
    "\n",
    "operacao = input(\"digite a operaçao desejada:\")\n",
    "\n",
    "if operacao == \"+\":\n",
    "    resultado = num1 + num2\n",
    "elif operacao == \"-\":\n",
    "    resultado = num1 - num2 \n",
    "elif operacao == \"*\":\n",
    "    resultado = num1 * num2\n",
    "elif operacao == \"/\":\n",
    "    if num2 == 0:\n",
    "        resultado = \"Erro ! Divisao por zero\"\n",
    "    else:\n",
    "        resultado = num1 / num2\n",
    "else:\n",
    "    resultado = \"operaçao invalida!\"\n",
    "\n",
    "print(\"resultado:\",resultado)"
   ]
  },
  {
   "cell_type": "code",
   "execution_count": null,
   "id": "9565f34c-e43b-4bb3-b52f-9f56549b070d",
   "metadata": {},
   "outputs": [],
   "source": []
  }
 ],
 "metadata": {
  "kernelspec": {
   "display_name": "Python 3 (ipykernel)",
   "language": "python",
   "name": "python3"
  },
  "language_info": {
   "codemirror_mode": {
    "name": "ipython",
    "version": 3
   },
   "file_extension": ".py",
   "mimetype": "text/x-python",
   "name": "python",
   "nbconvert_exporter": "python",
   "pygments_lexer": "ipython3",
   "version": "3.13.2"
  }
 },
 "nbformat": 4,
 "nbformat_minor": 5
}
